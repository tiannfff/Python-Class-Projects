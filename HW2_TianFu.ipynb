{
 "cells": [
  {
   "cell_type": "markdown",
   "metadata": {},
   "source": [
    "# HW2: Sort Algorithm"
   ]
  },
  {
   "cell_type": "code",
   "execution_count": 1,
   "metadata": {},
   "outputs": [
    {
     "name": "stdout",
     "output_type": "stream",
     "text": [
      "Populating the interactive namespace from numpy and matplotlib\n"
     ]
    }
   ],
   "source": [
    "%pylab inline\n",
    "import time\n",
    "import matplotlib.pyplot as plt\n",
    "from collections import Iterable"
   ]
  },
  {
   "cell_type": "markdown",
   "metadata": {},
   "source": [
    "# bubble sort"
   ]
  },
  {
   "cell_type": "code",
   "execution_count": 2,
   "metadata": {
    "collapsed": true
   },
   "outputs": [],
   "source": [
    "def bubble_sort(iterable, key=None, reverse=False):\n",
    "    # check if the user input iterable is actually a iterable\n",
    "    if not isinstance(iterable, Iterable):\n",
    "        raise TypeError(\"Please input a valid iterable object!\")\n",
    "    \n",
    "    lst = list(iterable) # make the iterable be a list\n",
    "    \n",
    "    # record start time\n",
    "    t1 = time.time()\n",
    "    # initialize number of comparions and swaps\n",
    "    nComp = 0\n",
    "    nSwap = 0\n",
    "    \n",
    "    # no need to compare or swap if the iterable has length less than 1\n",
    "    if len(lst) <= 1:\n",
    "        time_used = time.time() - t1 # calculate total time used\n",
    "        return lst, nComp, nSwap, time_used\n",
    "    \n",
    "    if key is not None:# when no key is specified\n",
    "        if not reverse:\n",
    "            exchange = True # declare exchange as a boolean to indicate whether there is an exchange happened\n",
    "            end_num = len(lst) - 1\n",
    "            # if no more exchange is needed, then the sorting is finished\n",
    "            # sorting continues if there is possible exchange, and there are at least 2 elements to sort\n",
    "            while end_num > 0 and exchange:\n",
    "                exchange = False\n",
    "                for i in range(end_num):\n",
    "                    nComp += 1 # one more comparison counted\n",
    "                    # ranking of the element is determined by the value returned by key function\n",
    "                    if key(lst[i]) > key(lst[i+1]):\n",
    "                        exchange = True # an exchange happened\n",
    "                        nSwap += 1 # one more swap counted\n",
    "                        # move the larger element to the latter position\n",
    "                        lst[i],lst[i+1] = lst[i+1],lst[i]\n",
    "                end_num -= 1 # one position in the ranking is set and move to next one\n",
    "        else:\n",
    "            exchange = True # declare exchange as a boolean to indicate whether there is an exchange happened\n",
    "            end_num = len(lst) - 1\n",
    "            # if no more exchange is needed, then the sorting is finished\n",
    "            # sorting continues if there is possible exchange, and there are at least 2 elements to sort\n",
    "            while end_num > 0 and exchange:\n",
    "                exchange = False\n",
    "                for i in range(end_num):\n",
    "                    nComp += 1 # one more comparison counted\n",
    "                    # ranking of the element is determined by the value returned by key function\n",
    "                    if key(lst[i]) < key(lst[i+1]):\n",
    "                        exchange = True # an exchange happened\n",
    "                        nSwap += 1 # one more swap counted\n",
    "                        # move the larger element to the latter position\n",
    "                        lst[i],lst[i+1] = lst[i+1],lst[i]\n",
    "                end_num -= 1 # one position in the ranking is set and move to next one\n",
    "    else:\n",
    "        if not reverse:\n",
    "            exchange = True\n",
    "            end_num = len(lst) - 1\n",
    "            while end_num > 0 and exchange:\n",
    "                exchange = False\n",
    "                for i in range(end_num):\n",
    "                    nComp += 1 # one more comparison counted\n",
    "                    if lst[i] > lst[i+1]:\n",
    "                        exchange = True # an exchange happened\n",
    "                        nSwap += 1 # one more swap counted\n",
    "                        # move the larger element to the latter position\n",
    "                        lst[i],lst[i+1] = lst[i+1],lst[i]\n",
    "                end_num -= 1 # one position in the ranking is set and move to next one\n",
    "        else:\n",
    "            exchange = True\n",
    "            end_num = len(lst) - 1\n",
    "            while end_num > 0 and exchange:\n",
    "                exchange = False\n",
    "                for i in range(end_num):\n",
    "                    nComp += 1 # one more comparison counted\n",
    "                    if lst[i] < lst[i+1]:\n",
    "                        exchange = True # an exchange happened\n",
    "                        nSwap += 1 # one more swap counted\n",
    "                        # move the larger element to the latter position\n",
    "                        lst[i],lst[i+1] = lst[i+1],lst[i]\n",
    "                end_num -= 1 # one position in the ranking is set and move to next one\n",
    "    \n",
    "    total_time = time.time() - t1 # calculate total time used in execution\n",
    "    return lst, nComp, nSwap, total_time\n",
    "        \n",
    "        "
   ]
  },
  {
   "cell_type": "markdown",
   "metadata": {},
   "source": [
    "#### tests"
   ]
  },
  {
   "cell_type": "code",
   "execution_count": 3,
   "metadata": {},
   "outputs": [
    {
     "name": "stdout",
     "output_type": "stream",
     "text": [
      "([2, 3, 22], 3, 2, 1.0013580322265625e-05)\n"
     ]
    }
   ],
   "source": [
    "print(bubble_sort([22,2,3]))"
   ]
  },
  {
   "cell_type": "code",
   "execution_count": 5,
   "metadata": {},
   "outputs": [
    {
     "name": "stdout",
     "output_type": "stream",
     "text": [
      "[6, 4, 1, 0]\n",
      "([6, 4, 1, 0], 6, 5, 1.0967254638671875e-05)\n",
      "[8, 7, 6, 5, 4, 3, 2, 1]\n",
      "([8, 7, 6, 5, 4, 3, 2, 1], 28, 28, 1.71661376953125e-05)\n",
      "[8, 7, 6, 5, 4, 3]\n",
      "([8, 7, 6, 5, 4, 3], 15, 15, 1.5974044799804688e-05)\n",
      "[2]\n",
      "([2], 0, 0, 9.5367431640625e-07)\n",
      "[10, 9, 8, 7, 6, 5, 4, 3, 2, 1]\n",
      "([10, 9, 8, 7, 6, 5, 4, 3, 2, 1], 9, 0, 1.1920928955078125e-05)\n",
      "[5, 4, 3, 2, 1]\n",
      "([5, 4, 3, 2, 1], 4, 0, 5.245208740234375e-06)\n",
      "[1, 2, 3, 4, 5, 6, 7, 8]\n",
      "([1, 2, 3, 4, 5, 6, 7, 8], 7, 0, 6.9141387939453125e-06)\n"
     ]
    }
   ],
   "source": [
    "# pure numbers\n",
    "test10 = [0,4,1,6]\n",
    "print(sorted(test10, reverse=True))\n",
    "print(bubble_sort(test10, reverse=True))\n",
    "\n",
    "test11 = [1,2,3,4,5,6,7,8]\n",
    "print(sorted(test11, reverse=True))\n",
    "print(bubble_sort(test11, reverse=True))\n",
    "\n",
    "test12 = [3,4,5,6,7,8]\n",
    "print(sorted(test12, reverse=True))\n",
    "print(bubble_sort(test12, reverse=True))\n",
    "\n",
    "test13 = [2]\n",
    "print(sorted(test13, reverse=True))\n",
    "print(bubble_sort(test13, reverse=True))\n",
    "\n",
    "test14 = [10,9,8,7,6,5,4,3,2,1]\n",
    "print(sorted(test14, reverse=True))\n",
    "print(bubble_sort(test14, reverse=True))\n",
    "\n",
    "test15 = [5,4,3,2,1]\n",
    "print(sorted(test15, reverse=True))\n",
    "print(bubble_sort(test15, reverse=True))\n",
    "\n",
    "test16 = [1,2,3,4,5,6,7,8]\n",
    "print(sorted(test16))\n",
    "print(bubble_sort(test16))"
   ]
  },
  {
   "cell_type": "code",
   "execution_count": 6,
   "metadata": {},
   "outputs": [
    {
     "name": "stdout",
     "output_type": "stream",
     "text": [
      "[]\n"
     ]
    },
    {
     "data": {
      "text/plain": [
       "([], 0, 0, 2.1457672119140625e-06)"
      ]
     },
     "execution_count": 6,
     "metadata": {},
     "output_type": "execute_result"
    }
   ],
   "source": [
    "# empty list\n",
    "test2 = []\n",
    "print(sorted(test2))\n",
    "bubble_sort(test2)"
   ]
  },
  {
   "cell_type": "code",
   "execution_count": 7,
   "metadata": {},
   "outputs": [
    {
     "name": "stdout",
     "output_type": "stream",
     "text": [
      "['e', 'd', 'c', 'b', 'a']\n",
      "(['e', 'd', 'c', 'b', 'a'], 10, 10, 1.0967254638671875e-05)\n",
      "['a', 'b']\n",
      "(['a', 'b'], 1, 0, 5.0067901611328125e-06)\n",
      "['e', 'd', 'c', 'b', 'a']\n",
      "(['e', 'd', 'c', 'b', 'a'], 4, 0, 5.0067901611328125e-06)\n"
     ]
    }
   ],
   "source": [
    "# pure letters\n",
    "test30 = ['a','b','c','d','e']\n",
    "print(sorted(test30, reverse=True))\n",
    "print(bubble_sort(test30, reverse=True))\n",
    "\n",
    "test31 = ['a','b']\n",
    "print(sorted(test31))\n",
    "print(bubble_sort(test31))\n",
    "\n",
    "test32 = ['e','d','c','b','a']\n",
    "print(sorted(test32, reverse=True))\n",
    "print(bubble_sort(test32, reverse=True))"
   ]
  },
  {
   "cell_type": "code",
   "execution_count": 8,
   "metadata": {},
   "outputs": [
    {
     "name": "stdout",
     "output_type": "stream",
     "text": [
      "['a', 'c', 90, 'z']\n",
      "(['a', 'c', 90, 'z'], 6, 3, 0.00011277198791503906)\n"
     ]
    }
   ],
   "source": [
    "# combination of letters and numbers\n",
    "test40=[90,'a','z','c']\n",
    "key40=lambda x:sum([ord(item) for item in str(x)])\n",
    "print(sorted(test40, key=key40))\n",
    "print(bubble_sort(test40,key=key40))"
   ]
  },
  {
   "cell_type": "code",
   "execution_count": 9,
   "metadata": {},
   "outputs": [
    {
     "name": "stdout",
     "output_type": "stream",
     "text": [
      "['jane', 'dave', 'john']\n",
      "(['jane', 'dave', 'john'], 3, 2, 1.2159347534179688e-05)\n",
      "['dave', 'apple', 'alice']\n",
      "(['dave', 'apple', 'alice'], 3, 3, 1.0013580322265625e-05)\n"
     ]
    }
   ],
   "source": [
    "# pure dictionary\n",
    "test50={'john': 'C','jane': 'B','dave': 'B'}\n",
    "key50=lambda test_case: test50[test_case]\n",
    "print(sorted(test50, key=key50))\n",
    "print(bubble_sort(test50,key=key50))\n",
    "\n",
    "test51={'alice': 1,'apple': 3,'dave': 5}\n",
    "print(sorted(test51,reverse=True))\n",
    "print(bubble_sort(test51,reverse=True))"
   ]
  },
  {
   "cell_type": "code",
   "execution_count": 10,
   "metadata": {},
   "outputs": [
    {
     "name": "stdout",
     "output_type": "stream",
     "text": [
      "[('dave', 'B', 10), ('jane', 'B', 15), ('john', 'C', 12)]\n",
      "([('dave', 'B', 10), ('jane', 'B', 15), ('john', 'C', 12)], 3, 3, 1.0013580322265625e-05)\n",
      "['apple', 'application', 'cherry']\n",
      "(['apple', 'application', 'cherry'], 2, 0, 7.152557373046875e-06)\n"
     ]
    }
   ],
   "source": [
    "# pure tuple\n",
    "test60=[('john', 'C', 12),('jane', 'B', 15),('dave', 'B', 10)]\n",
    "key60=lambda t: t[0]\n",
    "print(sorted(test60, key=key60))\n",
    "print(bubble_sort(test60,key=key60))\n",
    "\n",
    "test61=(\"apple\", \"application\", \"cherry\")\n",
    "print(sorted(test61))\n",
    "print(bubble_sort(test61))"
   ]
  },
  {
   "cell_type": "code",
   "execution_count": 11,
   "metadata": {},
   "outputs": [
    {
     "name": "stdout",
     "output_type": "stream",
     "text": [
      "[('dave', 'B', 10), ('jane', 'B', 12), ('john', 'A', 15)]\n",
      "([('dave', 'B', 10), ('jane', 'B', 12), ('john', 'A', 15)], 3, 3, 0.0001049041748046875)\n"
     ]
    }
   ],
   "source": [
    "# pure objects\n",
    "class Student:\n",
    "        def __init__(self, name, grade, age):\n",
    "                self.name = name\n",
    "                self.grade = grade\n",
    "                self.age = age\n",
    "        def __repr__(self):\n",
    "                return repr((self.name, self.grade, self.age)) # a printable representation\n",
    "        def weighted_grade(self):\n",
    "                return 'CBA'.index(self.grade) / float(self.age)\n",
    "            \n",
    "student_objects = [Student('john', 'A', 15),Student('jane', 'B', 12),Student('dave', 'B', 10)]\n",
    "print(sorted(student_objects, key=lambda student: student.age))\n",
    "print(bubble_sort(student_objects, key=lambda student: student.age))"
   ]
  },
  {
   "cell_type": "markdown",
   "metadata": {},
   "source": [
    "# merge sort"
   ]
  },
  {
   "cell_type": "code",
   "execution_count": 14,
   "metadata": {
    "collapsed": true
   },
   "outputs": [],
   "source": [
    "def merge_sort(iterable, key=None, reverse=False):\n",
    "    nComp = 0 # used to count number of comparisons\n",
    "\n",
    "    # check if the user input iterable is actually a iterable\n",
    "    if not isinstance(iterable, Iterable):\n",
    "        raise TypeError(\"Please input a valid iterable object!\")\n",
    "    \n",
    "    lst = list(iterable) # make the iterable be a list\n",
    "    t1 = time.time() # record start time\n",
    "    # no need to compare if list length is 1 or less\n",
    "    if len(lst) <= 1:\n",
    "        return lst, 0, time.time()-t1\n",
    "    \n",
    "    mid = len(lst) // 2 # decide the midpoint of a list\n",
    "    \n",
    "    # split the list of interest in half to sort it\n",
    "    left_half, left_comp, totalTime = merge_sort(lst[:mid],key,reverse)\n",
    "    right_half, right_comp, totalTime = merge_sort(lst[mid:],key,reverse)\n",
    "    \n",
    "    nComp = left_comp + right_comp # sum number of comparisons used from both sides\n",
    "    \n",
    "    i = 0 # index for left half\n",
    "    j = 0 # index for right half\n",
    "    result = [] # to store sorted list\n",
    "    \n",
    "    if not reverse:\n",
    "        if key is None: # when no key is input and sort in ascending order\n",
    "            while i < len(left_half) and j < len(right_half):\n",
    "                nComp += 1 # count as compared one time\n",
    "                if left_half[i] < right_half[j]: # for default ascending\n",
    "                    # if the element in left list is smaller, put it in result first\n",
    "                    result.append(left_half[i])\n",
    "                    i = i + 1 # move to next index on the left half\n",
    "                else:\n",
    "                    # if the element in right list is smaller, put it in result first\n",
    "                    result.append(right_half[j])\n",
    "                    j = j + 1 # move to next index on the right half\n",
    "        else: # when a key is input and sort in ascending order\n",
    "            while i < len(left_half) and j < len(right_half):\n",
    "                nComp += 1\n",
    "                if key(left_half[i]) <= key(right_half[j]): # for default ascending\n",
    "                    result.append(left_half[i])\n",
    "                    i = i + 1\n",
    "                else:\n",
    "                    result.append(right_half[j])\n",
    "                    j = j + 1\n",
    "            \n",
    "    else:\n",
    "        if key is None: # when no key is input and sort in descending order\n",
    "            while i < len(left_half) and j < len(right_half):\n",
    "                nComp += 1\n",
    "                if left_half[i] > right_half[j]: # for descending\n",
    "                    # if the element in left list is larger, put it in result first\n",
    "                    result.append(left_half[i])\n",
    "                    i = i + 1\n",
    "                else:\n",
    "                    # if the element in right list is larger, put it in result first\n",
    "                    result.append(right_half[j])\n",
    "                    j = j + 1\n",
    "        else: # when a key is input and sort in descending order\n",
    "            while i < len(left_half) and j < len(right_half):\n",
    "                nComp += 1\n",
    "                if key(left_half[i]) >= key(right_half[j]): # for default ascending\n",
    "                    result.append(left_half[i])\n",
    "                    i = i + 1\n",
    "                else:\n",
    "                    result.append(right_half[j])\n",
    "                    j = j + 1\n",
    "            \n",
    "    result = result + left_half[i:] # put remaining elements in left half into result list\n",
    "    result = result + right_half[j:] # put remaining elements in right half into result list\n",
    "    endTime = time.time() - t1 # calculate total time used for execution\n",
    "    return result, nComp, endTime"
   ]
  },
  {
   "cell_type": "markdown",
   "metadata": {},
   "source": [
    "#### tests"
   ]
  },
  {
   "cell_type": "code",
   "execution_count": 15,
   "metadata": {},
   "outputs": [
    {
     "name": "stdout",
     "output_type": "stream",
     "text": [
      "[0, 1, 4, 6]\n",
      "([0, 1, 4, 6], 5, 4.482269287109375e-05)\n",
      "[8, 7, 6, 5, 4, 3, 2, 1]\n",
      "([8, 7, 6, 5, 4, 3, 2, 1], 12, 5.0067901611328125e-05)\n",
      "[8, 7, 6, 5, 4, 3]\n",
      "([8, 7, 6, 5, 4, 3], 9, 7.200241088867188e-05)\n",
      "[2]\n",
      "([2], 0, 9.5367431640625e-07)\n",
      "[1, 2, 3, 4, 5, 6, 7, 8, 9, 10]\n",
      "([1, 2, 3, 4, 5, 6, 7, 8, 9, 10], 19, 9.202957153320312e-05)\n",
      "[5, 4, 3, 2, 1]\n",
      "([5, 4, 3, 2, 1], 5, 4.601478576660156e-05)\n",
      "[10, 9, 8, 7, 6, 5, 4, 3, 2, 1]\n",
      "([10, 9, 8, 7, 6, 5, 4, 3, 2, 1], 15, 0.00017380714416503906)\n",
      "[1, 2, 6, 7, 9, 10]\n",
      "([1, 2, 6, 7, 9, 10], 7, 6.198883056640625e-05)\n"
     ]
    }
   ],
   "source": [
    "# pure numbers\n",
    "test10 = [0,4,1,6]\n",
    "print(sorted(test10))\n",
    "print(merge_sort(test10))\n",
    "\n",
    "test11 = [1,2,3,4,5,6,7,8]\n",
    "print(sorted(test11, reverse=True))\n",
    "print(merge_sort(test11, reverse=True))\n",
    "\n",
    "test12 = [3,4,5,6,7,8]\n",
    "print(sorted(test12, reverse=True))\n",
    "print(merge_sort(test12, reverse=True))\n",
    "\n",
    "test13 = [2]\n",
    "print(sorted(test13, reverse=True))\n",
    "print(merge_sort(test13, reverse=True))\n",
    "\n",
    "test14 = [10,9,8,7,6,5,4,3,2,1]\n",
    "print(sorted(test14))\n",
    "print(merge_sort(test14))\n",
    "\n",
    "test15 = [5,4,3,2,1]\n",
    "print(sorted(test15, reverse=True))\n",
    "print(merge_sort(test15, reverse=True))\n",
    "\n",
    "test16 = [10,9,8,7,6,5,4,3,2,1]\n",
    "print(sorted(test16,reverse=True))\n",
    "print(merge_sort(test16,reverse=True))\n",
    "\n",
    "test17 = [1,2,6,7,9,10]\n",
    "print(sorted(test17))\n",
    "print(merge_sort(test17))"
   ]
  },
  {
   "cell_type": "code",
   "execution_count": 16,
   "metadata": {},
   "outputs": [
    {
     "name": "stdout",
     "output_type": "stream",
     "text": [
      "[]\n",
      "([], 0, 1.9073486328125e-06)\n"
     ]
    }
   ],
   "source": [
    "# empty list\n",
    "test2 = []\n",
    "print(sorted(test2))\n",
    "print(merge_sort(test2))"
   ]
  },
  {
   "cell_type": "code",
   "execution_count": 17,
   "metadata": {},
   "outputs": [
    {
     "name": "stdout",
     "output_type": "stream",
     "text": [
      "['e', 'd', 'c', 'b', 'a']\n",
      "(['e', 'd', 'c', 'b', 'a'], 7, 5.0067901611328125e-05)\n",
      "['a', 'b']\n",
      "(['a', 'b'], 1, 1.6689300537109375e-05)\n",
      "['e', 'd', 'c', 'b', 'a']\n",
      "(['e', 'd', 'c', 'b', 'a'], 5, 4.696846008300781e-05)\n"
     ]
    }
   ],
   "source": [
    "# pure letters\n",
    "test30 = ['a','b','c','d','e']\n",
    "print(sorted(test30, reverse=True))\n",
    "print(merge_sort(test30, reverse=True))\n",
    "\n",
    "test31 = ['a','b']\n",
    "print(sorted(test31))\n",
    "print(merge_sort(test31))\n",
    "\n",
    "test32 = ['e','d','c','b','a']\n",
    "print(sorted(test32, reverse=True))\n",
    "print(merge_sort(test32, reverse=True))"
   ]
  },
  {
   "cell_type": "code",
   "execution_count": 18,
   "metadata": {},
   "outputs": [
    {
     "name": "stdout",
     "output_type": "stream",
     "text": [
      "['a', 'c', 90, 'z']\n",
      "(['a', 'c', 90, 'z'], 5, 0.00014400482177734375)\n"
     ]
    }
   ],
   "source": [
    "# combination of letters and numbers\n",
    "test40=[90,'a','z','c']\n",
    "key40=lambda x:sum([ord(item) for item in str(x)])\n",
    "print(sorted(test40, key=key40))\n",
    "print(merge_sort(test40,key=key40))"
   ]
  },
  {
   "cell_type": "code",
   "execution_count": 19,
   "metadata": {},
   "outputs": [
    {
     "name": "stdout",
     "output_type": "stream",
     "text": [
      "['jane', 'dave', 'john']\n",
      "(['jane', 'dave', 'john'], 3, 3.1948089599609375e-05)\n",
      "no key: ['dave', 'jane', 'john']\n",
      "no key: (['dave', 'jane', 'john'], 3, 2.4080276489257812e-05)\n",
      "['dave', 'apple', 'alice']\n",
      "(['dave', 'apple', 'alice'], 3, 1.621246337890625e-05)\n"
     ]
    }
   ],
   "source": [
    "# pure dictionary\n",
    "test50={'john': 'C','jane': 'B','dave': 'B'}\n",
    "key50=lambda test_case: test50[test_case]\n",
    "print(sorted(test50, key=key50))\n",
    "print(merge_sort(test50,key=key50))\n",
    "print(\"no key:\", sorted(test50))\n",
    "print(\"no key:\", merge_sort(test50))\n",
    "\n",
    "test51={'alice': 1,'apple': 3,'dave': 5}\n",
    "print(sorted(test51,reverse=True))\n",
    "print(merge_sort(test51,reverse=True))"
   ]
  },
  {
   "cell_type": "code",
   "execution_count": 20,
   "metadata": {},
   "outputs": [
    {
     "name": "stdout",
     "output_type": "stream",
     "text": [
      "[('dave', 'B', 10), ('jane', 'B', 15), ('john', 'C', 12)]\n",
      "([('dave', 'B', 10), ('jane', 'B', 15), ('john', 'C', 12)], 3, 3.314018249511719e-05)\n",
      "['apple', 'application', 'cherry']\n",
      "(['apple', 'application', 'cherry'], 2, 3.0994415283203125e-05)\n"
     ]
    }
   ],
   "source": [
    "# pure tuple\n",
    "test60=[('john', 'C', 12),('jane', 'B', 15),('dave', 'B', 10)]\n",
    "key60=lambda t: t[0]\n",
    "print(sorted(test60, key=key60))\n",
    "print(merge_sort(test60,key=key60))\n",
    "\n",
    "test61=(\"apple\", \"application\", \"cherry\")\n",
    "print(sorted(test61))\n",
    "print(merge_sort(test61))"
   ]
  },
  {
   "cell_type": "code",
   "execution_count": 21,
   "metadata": {},
   "outputs": [
    {
     "name": "stdout",
     "output_type": "stream",
     "text": [
      "[('dave', 'B', 10), ('jane', 'B', 12), ('john', 'A', 15)]\n",
      "([('dave', 'B', 10), ('jane', 'B', 12), ('john', 'A', 15)], 3, 2.002716064453125e-05)\n"
     ]
    }
   ],
   "source": [
    "# pure objects\n",
    "class Student:\n",
    "        def __init__(self, name, grade, age):\n",
    "                self.name = name\n",
    "                self.grade = grade\n",
    "                self.age = age\n",
    "        def __repr__(self):\n",
    "                return repr((self.name, self.grade, self.age)) # a printable representation\n",
    "        def weighted_grade(self):\n",
    "                return 'CBA'.index(self.grade) / float(self.age)\n",
    "            \n",
    "student_objects = [Student('john', 'A', 15),Student('jane', 'B', 12),Student('dave', 'B', 10)]\n",
    "print(sorted(student_objects, key=lambda student: student.age))\n",
    "print(merge_sort(student_objects, key=lambda student: student.age))"
   ]
  },
  {
   "cell_type": "markdown",
   "metadata": {},
   "source": [
    "## Comparisons"
   ]
  },
  {
   "cell_type": "code",
   "execution_count": 22,
   "metadata": {
    "collapsed": true
   },
   "outputs": [],
   "source": [
    "import random\n",
    "import string\n",
    "import timeit\n",
    "import numpy as np"
   ]
  },
  {
   "cell_type": "code",
   "execution_count": 23,
   "metadata": {
    "collapsed": true
   },
   "outputs": [],
   "source": [
    "# This function will randomly generate a list of N numbers and words\n",
    "def gen_rand(N):\n",
    "    # randomly select the number of integers to be generated\n",
    "    # this number is between 0 and N\n",
    "    num_int = random.randint(0, N)\n",
    "    num_word = N - num_int\n",
    "    gen_list = [] # empty list to store numbers and words\n",
    "    \n",
    "    # letters to be used to form a string\n",
    "    letters = \"abcdefghijklmnopqrstuvwxyz\"\n",
    "    \n",
    "    # randomly generate num_int number of integers and add them to the list\n",
    "    for _ in range(num_int):\n",
    "        gen_list.append(random.randint(-100, 100))\n",
    "    \n",
    "    # randomly generate num_word number of strings and add them to the list\n",
    "    # length of each string is also random, between 1 to 26 characters\n",
    "    for _ in range(num_word):\n",
    "        gen_list.append(''.join([random.choice(letters) for _ in range(1,random.randint(1, 10))]))\n",
    "    \n",
    "    # make the elements in this list in a random order\n",
    "    random.shuffle(gen_list)\n",
    "    \n",
    "    return gen_list"
   ]
  },
  {
   "cell_type": "code",
   "execution_count": 24,
   "metadata": {
    "collapsed": true
   },
   "outputs": [],
   "source": [
    "# create a random list with 5 elements\n",
    "first_list = gen_rand(5)\n",
    "# create a random list with 20 elements\n",
    "second_list = gen_rand(20)\n",
    "# create a random list with 50 elements\n",
    "third_list = gen_rand(50)\n",
    "# create a random list with 100 elements\n",
    "fourth_list = gen_rand(100)\n",
    "# create a random list with 200 elements\n",
    "fifth_list = gen_rand(200)\n",
    "# create a random list with 500 elements\n",
    "sixth_list = gen_rand(500)\n",
    "\n",
    "# put four lists to be used later into an aggregated list\n",
    "agg_list = [first_list, second_list, third_list, fourth_list, fifth_list, sixth_list]"
   ]
  },
  {
   "cell_type": "markdown",
   "metadata": {},
   "source": [
    "#### compare time used across three ways"
   ]
  },
  {
   "cell_type": "code",
   "execution_count": 25,
   "metadata": {},
   "outputs": [
    {
     "data": {
      "image/png": "[encoded data removed]",
      "text/plain": [
       "<matplotlib.figure.Figure at 0x10b0f98d0>"
      ]
     },
     "metadata": {},
     "output_type": "display_data"
    }
   ],
   "source": [
    "# plot list sizes on the x-axis\n",
    "x_value = [5, 20, 50, 100, 200, 500]\n",
    "\n",
    "testKey=lambda x:sum([ord(item) for item in str(x)])\n",
    "\n",
    "# values on y-axis are time used to sort a list using three methods respectively\n",
    "y_time_bubble = [bubble_sort(l,key=testKey)[3] for l in agg_list]\n",
    "y_time_sorted = [timeit.timeit(lambda: sorted(l,key=testKey), number=1) for l in agg_list]\n",
    "y_time_merge = [merge_sort(l,key=testKey)[2] for l in agg_list]\n",
    "\n",
    "# plot time used for two different methods respectively through two lines\n",
    "plt.plot(x_value, y_time_bubble, label='bubble sort')\n",
    "plt.plot(x_value, y_time_sorted, label='built-in sorted')\n",
    "plt.plot(x_value, y_time_merge, label='merge sort')\n",
    "plt.legend()\n",
    "plt.title('Time Used: bubble sort vs merge sort vs built-in sorted')\n",
    "plt.xlabel('List Sizes')\n",
    "plt.ylabel('Time Used to Sort')\n",
    "plt.show() # display performance of three sort methods"
   ]
  },
  {
   "cell_type": "markdown",
   "metadata": {},
   "source": [
    "#### compare number of comparisons used"
   ]
  },
  {
   "cell_type": "code",
   "execution_count": 26,
   "metadata": {},
   "outputs": [
    {
     "data": {
      "image/png": "[encoded data removed]",
      "text/plain": [
       "<matplotlib.figure.Figure at 0x10b155198>"
      ]
     },
     "metadata": {},
     "output_type": "display_data"
    }
   ],
   "source": [
    "# plot list sizes on the x-axis\n",
    "x_value = [5, 20, 50, 100, 200, 500]\n",
    "\n",
    "testKey=lambda x:sum([ord(item) for item in str(x)])\n",
    "\n",
    "# values on y-axis are comparisons used to sort a list using two methods respectively\n",
    "y_comp_bubble = [bubble_sort(l,key=testKey)[1] for l in agg_list]\n",
    "y_comp_merge = [merge_sort(l,key=testKey)[1] for l in agg_list]\n",
    "\n",
    "# plot time used for two different methods respectively through two lines\n",
    "plt.plot(x_value, y_comp_bubble, label='bubble sort')\n",
    "plt.plot(x_value, y_comp_merge, label='merge sort')\n",
    "plt.legend()\n",
    "plt.title('Comparisons Used: bubble sort vs merge sort')\n",
    "plt.xlabel('List Sizes')\n",
    "plt.ylabel('Number of Comparisons')\n",
    "plt.show() # display performance of three sort methods"
   ]
  },
  {
   "cell_type": "markdown",
   "metadata": {},
   "source": [
    "#### a table summarizing results for bubble sort and merge sort on previously randomly generated data"
   ]
  },
  {
   "cell_type": "code",
   "execution_count": 27,
   "metadata": {},
   "outputs": [
    {
     "data": {
      "image/png": "[encoded data removed]",
      "text/plain": [
       "<matplotlib.figure.Figure at 0x10b5f2828>"
      ]
     },
     "metadata": {},
     "output_type": "display_data"
    }
   ],
   "source": [
    "y_swap_bubble = [bubble_sort(l,key=testKey)[2] for l in agg_list]\n",
    "\n",
    "rows = ('bubble # of swasp', 'bubble # of comparisons', 'merge # of comparisons')\n",
    "columns = ['list size = %i' % i for i in (5, 20, 50, 100, 200, 500)]\n",
    "\n",
    "data_list = [y_swap_bubble, y_comp_bubble, y_comp_merge]\n",
    "\n",
    "fig = plt.figure(1)\n",
    "fig.subplots_adjust(left=0.2,top=0.8, wspace=1)\n",
    "\n",
    "#Table - Main table\n",
    "ax = plt.subplot2grid((4,3), (0,0), colspan=2, rowspan=2)\n",
    "ax.table(cellText=data_list,\n",
    "         rowLabels=rows,\n",
    "         colLabels=columns, loc=\"upper center\")\n",
    "\n",
    "ax.axis(\"off\")\n",
    "plt.title('Sort Performance Summary')\n",
    "fig.set_size_inches(w=16, h=15)\n",
    "plt.show()"
   ]
  },
  {
   "cell_type": "code",
   "execution_count": null,
   "metadata": {
    "collapsed": true
   },
   "outputs": [],
   "source": []
  }
 ],
 "metadata": {
  "kernelspec": {
   "display_name": "Python 3",
   "language": "python",
   "name": "python3"
  },
  "language_info": {
   "codemirror_mode": {
    "name": "ipython",
    "version": 3
   },
   "file_extension": ".py",
   "mimetype": "text/x-python",
   "name": "python",
   "nbconvert_exporter": "python",
   "pygments_lexer": "ipython3",
   "version": "3.6.3"
  }
 },
 "nbformat": 4,
 "nbformat_minor": 2
}
